{
 "cells": [
  {
   "cell_type": "code",
   "execution_count": 3,
   "metadata": {},
   "outputs": [
    {
     "name": "stdout",
     "output_type": "stream",
     "text": [
      "--------------------\n",
      "Correct!\n",
      "Correct!\n",
      "Correct!\n",
      "Correct!\n",
      "Correct!\n",
      "Correct!\n",
      "Correct!\n",
      "Correct!\n",
      "Correct!\n",
      "Correct!\n",
      "12 * 4 48\n",
      "Nice work! you got 10 problems correct in 42 seconds\n"
     ]
    }
   ],
   "source": [
    "import random\n",
    "OPERATORS=['+','-','*']\n",
    "MIN_OPERAND=3\n",
    "MAX_OPERAND=12\n",
    "TOTAL_PROBLEMS=10\n",
    "import time\n",
    "\n",
    "def generateproblem():\n",
    "    left=random.randint(MIN_OPERAND,MAX_OPERAND)\n",
    "    right=random.randint(MIN_OPERAND,MAX_OPERAND)\n",
    "    operator=random.choice(OPERATORS)#choice is a function that randomly selects an element from a list\n",
    "    expr=f'{left} {operator} {right}'\n",
    "    answer=eval(expr)#eval is a function that evaluates a string as a python expression\n",
    "    return expr,answer\n",
    "\n",
    "wrong= 0\n",
    "input(\"are you ready to start the quiz? press enter to start\")\n",
    "print(\"--------------------\")\n",
    "start_time=time.time()\n",
    "\n",
    "for i in range(TOTAL_PROBLEMS):\n",
    "    expr,answer=generateproblem()\n",
    "    while True:\n",
    "        guess=input(\"Pronlem#\" + str(i+1) + \": \"+expr+  \" = \")\n",
    "        if guess == str(answer):\n",
    "            print(\"Correct!\")\n",
    "            break\n",
    "end_time=time.time()\n",
    "total_time=round(end_time-start_time)\n",
    "\n",
    "expr,answer=generateproblem()\n",
    "print(expr,answer)\n",
    "print(\"Nice work! you got\", TOTAL_PROBLEMS, \"problems correct in\", total_time, \"seconds\")"
   ]
  }
 ],
 "metadata": {
  "kernelspec": {
   "display_name": "Python 3",
   "language": "python",
   "name": "python3"
  },
  "language_info": {
   "codemirror_mode": {
    "name": "ipython",
    "version": 3
   },
   "file_extension": ".py",
   "mimetype": "text/x-python",
   "name": "python",
   "nbconvert_exporter": "python",
   "pygments_lexer": "ipython3",
   "version": "3.12.5"
  }
 },
 "nbformat": 4,
 "nbformat_minor": 2
}
