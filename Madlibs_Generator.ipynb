{
 "cells": [
  {
   "cell_type": "code",
   "execution_count": 4,
   "metadata": {},
   "outputs": [
    {
     "name": "stdout",
     "output_type": "stream",
     "text": [
      "{'place': 'mcdolnals', 'emotion2': 'sad', 'weather_condition': 'sunny', 'emotion': 'happy', 'terrain': 'mountain', 'animal': 'bear', 'adverb': 'smile', 'adjective1': 'beatiful', 'character': 'aous', 'place2': 'burgerking', 'object': 'table'}\n",
      "In the beatiful land of mcdolnals, a bear was feeling happy. The bear had lost its table.\n",
      "\n",
      "Suddenly, a aous appeared. 'I will help you find your table,' they said.\n",
      "\n",
      "Together, they journeyed through mountain and faced the sunny. Finally, they found the table in a burgerking. The bear was so sad and thanked the aous. They lived smile ever after.\n"
     ]
    }
   ],
   "source": [
    "with open(\"C:/Users/MHDAH/OneDrive/سطح المكتب/Python_Projects/story.txt\", 'r', encoding='utf-8') as f:  # Added encoding to handle special characters\n",
    "    story = f.read()\n",
    "\n",
    "words = set()  # Capitalized the comment and added space for readability\n",
    "# start_of_word is set to -1, indicating that no start tag (<) has been found yet.\n",
    "start_of_word = -1\n",
    "\n",
    "target_start = \"<\"\n",
    "target_end = \">\"\n",
    "\n",
    "# enumerate() returns a tuple containing a count (from start which defaults to 0) and the values obtained from iterating over the sequence   \n",
    "# enumerate returns a tuple with the index and the character\n",
    "\n",
    "for i, char in enumerate(story):\n",
    "    if char == target_start:\n",
    "        start_of_word = i\n",
    "    if char == target_end and start_of_word != -1:\n",
    "        word = story[start_of_word + 1:i]  # Correct spacing around operators\n",
    "        words.add(word)\n",
    "        start_of_word = -1\n",
    "\n",
    "answers = {}  # Use a dictionary to store answers corresponding to each word\n",
    "for word in words:  # Use the singular 'word' to iterate over the set\n",
    "    answer = input(f\"Enter a {word}: \")  # Corrected to use a new variable 'answer' for input\n",
    "    answers[word] = answer  # Store the user's response in the dictionary\n",
    "\n",
    "print(answers)\n",
    "\n",
    "for word in words:\n",
    "    story = story.replace(f\"<{word}>\", answers[word])  # Replaces each placeholder with the user's input\n",
    "\n",
    "print(story)\n"
   ]
  }
 ],
 "metadata": {
  "kernelspec": {
   "display_name": "Python 3",
   "language": "python",
   "name": "python3"
  },
  "language_info": {
   "codemirror_mode": {
    "name": "ipython",
    "version": 3
   },
   "file_extension": ".py",
   "mimetype": "text/x-python",
   "name": "python",
   "nbconvert_exporter": "python",
   "pygments_lexer": "ipython3",
   "version": "3.12.5"
  }
 },
 "nbformat": 4,
 "nbformat_minor": 2
}
