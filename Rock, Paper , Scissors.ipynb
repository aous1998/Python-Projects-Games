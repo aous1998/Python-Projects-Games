{
 "cells": [
  {
   "cell_type": "code",
   "execution_count": 4,
   "metadata": {},
   "outputs": [
    {
     "name": "stdout",
     "output_type": "stream",
     "text": [
      "Computer picked: rock\n",
      "You lost\n",
      "Computer picked: rock\n",
      "You picked rock paper, You Won!\n",
      "Computer picked: scissors\n",
      "You lost\n",
      "Computer picked: rock\n",
      "You picked rock paper, You Won!\n",
      "Computer picked: scissors\n",
      "You picked rock,You Won!\n",
      "Computer picked: scissors\n",
      "You picked rock,You Won!\n",
      "Goodbye! You won 4 times. The computer won 2 times.\n"
     ]
    }
   ],
   "source": [
    "import random\n",
    "\n",
    "user_wins = 0\n",
    "computer_wins = 0\n",
    "options = [\"rock\", \"paper\", \"scissors\"]\n",
    "\n",
    "while True:\n",
    "    userinput = input(\"Type Rock/Paper/Scissors or Q to quit: \").lower()\n",
    "    if userinput == 'q':\n",
    "        break  # break out of the loop\n",
    "    if userinput not in options:\n",
    "        print(\"Please enter Rock/Paper/Scissors\")\n",
    "        continue\n",
    "\n",
    "    randomselection = random.randint(0, 2)\n",
    "    comp_pick = options[randomselection]\n",
    "\n",
    "    print(f\"Computer picked: {comp_pick}\")\n",
    "\n",
    "    # Game logic for user wins\n",
    "    if userinput == 'rock' and comp_pick == 'scissors':\n",
    "        print(\"You picked rock,You Won!\")\n",
    "        user_wins += 1\n",
    "    elif userinput == 'paper' and comp_pick == 'rock':\n",
    "        print(\"You picked rock paper, You Won!\")\n",
    "        user_wins += 1\n",
    "    elif userinput == 'scissors' and comp_pick == 'paper':\n",
    "        print(\"You picked scissors,You Won!\")\n",
    "        user_wins += 1\n",
    "    else:\n",
    "        print(\"You lost\")\n",
    "        computer_wins += 1\n",
    "\n",
    "print(f\"Goodbye! You won {user_wins} times. The computer won {computer_wins} times.\")\n"
   ]
  },
  {
   "cell_type": "code",
   "execution_count": null,
   "metadata": {},
   "outputs": [],
   "source": []
  }
 ],
 "metadata": {
  "kernelspec": {
   "display_name": "Python 3",
   "language": "python",
   "name": "python3"
  },
  "language_info": {
   "codemirror_mode": {
    "name": "ipython",
    "version": 3
   },
   "file_extension": ".py",
   "mimetype": "text/x-python",
   "name": "python",
   "nbconvert_exporter": "python",
   "pygments_lexer": "ipython3",
   "version": "3.12.5"
  }
 },
 "nbformat": 4,
 "nbformat_minor": 2
}
