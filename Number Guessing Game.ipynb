{
 "cells": [
  {
   "cell_type": "code",
   "execution_count": 11,
   "metadata": {},
   "outputs": [
    {
     "name": "stdout",
     "output_type": "stream",
     "text": [
      "You entered  20\n",
      "You were under the guess\n",
      "You were under the guess\n",
      "you were above the guess \n",
      "you were above the guess \n",
      "you got it right \n",
      "You guess it after 5 attempts\n"
     ]
    }
   ],
   "source": [
    "import random\n",
    "\n",
    "rangenumber=input(\"Please enter a number to use it as a range \")\n",
    "\n",
    "if rangenumber.isdigit():\n",
    "    rangenumber=int(rangenumber)\n",
    "    print(\"You entered \",rangenumber)\n",
    "    if rangenumber <= 0:\n",
    "        print(\"please enter an integer number next time  \")\n",
    "        quit()\n",
    "else:\n",
    "    print(\"Please enter a number\")\n",
    "    quit()\n",
    "\n",
    "randomrange=random.randint(0, rangenumber)\n",
    "guess=0\n",
    "\n",
    "while True:\n",
    "    userguess=input(\"Make a guess \")\n",
    "    guess+=1\n",
    "    if userguess.isdigit():\n",
    "        userguess=int(userguess)\n",
    "    else:\n",
    "        print(\"enter the number again\")\n",
    "        continue\n",
    "    #print(after continue)\n",
    "    if userguess==randomrange:\n",
    "        print(\"you got it right \")\n",
    "        \n",
    "        break\n",
    "    else:\n",
    "        if userguess > randomrange:\n",
    "            print(\"you were above the guess \")\n",
    "        else:\n",
    "            print(\"You were under the guess\")\n",
    "print(\"You guess it after \"+str(guess)+\" attempts\")"
   ]
  }
 ],
 "metadata": {
  "kernelspec": {
   "display_name": "Python 3",
   "language": "python",
   "name": "python3"
  },
  "language_info": {
   "codemirror_mode": {
    "name": "ipython",
    "version": 3
   },
   "file_extension": ".py",
   "mimetype": "text/x-python",
   "name": "python",
   "nbconvert_exporter": "python",
   "pygments_lexer": "ipython3",
   "version": "3.12.5"
  }
 },
 "nbformat": 4,
 "nbformat_minor": 2
}
